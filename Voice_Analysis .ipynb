{
  "nbformat": 4,
  "nbformat_minor": 0,
  "metadata": {
    "colab": {
      "name": "Voice_Analysis.ipynb",
      "provenance": [],
      "collapsed_sections": []
    },
    "kernelspec": {
      "name": "python3",
      "display_name": "Python 3"
    },
    "accelerator": "GPU"
  },
  "cells": [
    {
      "cell_type": "code",
      "metadata": {
        "id": "3AkFmsPQMvcF"
      },
      "source": [
        "import pandas as pd\r\n",
        "import numpy as np\r\n",
        "from numpy import argmax\r\n",
        "import matplotlib.pyplot as plt\r\n",
        "%matplotlib inline\r\n",
        "import librosa\r\n",
        "import librosa.display\r\n",
        "import IPython.display\r\n",
        "import random\r\n",
        "import warnings\r\n",
        "import os\r\n",
        "from PIL import Image\r\n",
        "import pathlib\r\n",
        "import csv\r\n",
        "# sklearn Preprocessing\r\n",
        "from sklearn.model_selection import train_test_split\r\n",
        "#Keras\r\n",
        "import keras\r\n",
        "import warnings\r\n",
        "warnings.filterwarnings('ignore')\r\n",
        "from keras import layers\r\n",
        "from keras.layers import Activation, Dense, Dropout, Conv2D, Flatten, MaxPooling2D, GlobalMaxPooling2D, GlobalAveragePooling1D, AveragePooling2D, Input, Add\r\n",
        "from keras.models import Sequential\r\n",
        "from keras.optimizers import SGD\r\n"
      ],
      "execution_count": 4,
      "outputs": []
    },
    {
      "cell_type": "markdown",
      "metadata": {
        "id": "UkIPZ1-On4CU"
      },
      "source": [
        "Collab için drive işlemleri"
      ]
    },
    {
      "cell_type": "code",
      "metadata": {
        "colab": {
          "base_uri": "https://localhost:8080/"
        },
        "id": "_PXPS-FAQKgy",
        "outputId": "c0f1cfff-9e4d-4fb1-97f1-745fade91284"
      },
      "source": [
        "#drive tanımlaması yapılmak zorunda\r\n",
        "from google.colab import drive\r\n",
        "drive.mount('/content/drive')\r\n",
        "\r\n"
      ],
      "execution_count": 6,
      "outputs": [
        {
          "output_type": "stream",
          "text": [
            "Mounted at /content/drive\n"
          ],
          "name": "stdout"
        }
      ]
    },
    {
      "cell_type": "code",
      "metadata": {
        "colab": {
          "base_uri": "https://localhost:8080/",
          "height": 35
        },
        "id": "N70bIP60UADe",
        "outputId": "2297799e-08b9-44f1-fbb8-f56f2625a114"
      },
      "source": [
        "import tensorflow as tf\r\n",
        "tf.test.gpu_device_name()"
      ],
      "execution_count": 7,
      "outputs": [
        {
          "output_type": "execute_result",
          "data": {
            "application/vnd.google.colaboratory.intrinsic+json": {
              "type": "string"
            },
            "text/plain": [
              "'/device:GPU:0'"
            ]
          },
          "metadata": {
            "tags": []
          },
          "execution_count": 7
        }
      ]
    },
    {
      "cell_type": "markdown",
      "metadata": {
        "id": "r7ZM9Zhhotyi"
      },
      "source": [
        " Her ses işlenip spectrogramları png olarak kaydediyor."
      ]
    },
    {
      "cell_type": "code",
      "metadata": {
        "colab": {
          "base_uri": "https://localhost:8080/",
          "height": 68
        },
        "id": "7Je7GMgPNKLu",
        "outputId": "549e2eb5-0c0e-47c7-9c1f-3cb4035244b4"
      },
      "source": [
        "\r\n",
        "classes = 2\r\n",
        "#current_path = r\"C://Users//Beyza//Desktop//16000_pcm_speeches//Train\"\r\n",
        "current_path = \"drive/My Drive/Colab Notebooks/16000_pcm_speeches/Train\"\r\n",
        "for i in range (classes):\r\n",
        "    pathlib.Path(f'img_data/{i}').mkdir(parents=True, exist_ok=True) #for images\r\n",
        "    path = os.path.join(current_path + '/' + str(i)) \r\n",
        "    print(\"data path:\",path)\r\n",
        "    datapath = os.listdir(path)  \r\n",
        "   # print(i,\".dosya path->\",datapath)\r\n",
        "    for path_new in datapath:\r\n",
        "        path_name =  path +\"/\" +path_new   \r\n",
        "        y, sr = librosa.load(path_name, mono=True, duration=5)\r\n",
        "        #print(y.shape)\r\n",
        "        plt.specgram(y, NFFT=2048, Fs=2, Fc=0, noverlap=128, sides='default', mode='default', scale='dB');\r\n",
        "        plt.axis('off');\r\n",
        "        plt.savefig((f'img_data/{i}/{path_new[:-3].replace(\".\", \"\")}.png'))    #Kaydet\r\n",
        "        plt.clf()"
      ],
      "execution_count": 36,
      "outputs": [
        {
          "output_type": "stream",
          "text": [
            "data path: drive/My Drive/Colab Notebooks/16000_pcm_speeches/Train/0\n",
            "data path: drive/My Drive/Colab Notebooks/16000_pcm_speeches/Train/1\n"
          ],
          "name": "stdout"
        },
        {
          "output_type": "display_data",
          "data": {
            "text/plain": [
              "<Figure size 432x288 with 0 Axes>"
            ]
          },
          "metadata": {
            "tags": []
          }
        }
      ]
    },
    {
      "cell_type": "code",
      "metadata": {
        "colab": {
          "base_uri": "https://localhost:8080/"
        },
        "id": "h_2xTwaUQv27",
        "outputId": "0e9b5123-569a-4d75-db04-6ca1eb414158"
      },
      "source": [
        "#For  dataset\r\n",
        "import splitfolders \r\n",
        "\r\n",
        "splitfolders.ratio('./img_data/', output=\"./data\", seed=1337, ratio=(.8, .2)) # default values\r\n",
        "from keras.preprocessing.image import ImageDataGenerator\r\n",
        "\r\n",
        "train_datagen = ImageDataGenerator( #(X_train , y_train return)\r\n",
        "        rescale=1./255,       # all our pixel values are in range (0,1)\r\n",
        "        shear_range=0.2,      #to apply some random tranfromations\r\n",
        "        zoom_range=0.2,       \r\n",
        "        horizontal_flip=True) \r\n",
        "\r\n",
        "test_datagen = ImageDataGenerator( #(X_test , y_test return)\r\n",
        "        rescale=1./255,       # all our pixel values are in range (0,1)\r\n",
        "        shear_range=0.2,      #to apply some random tranfromations\r\n",
        "        zoom_range=0.2,      \r\n",
        "        horizontal_flip=True) "
      ],
      "execution_count": 37,
      "outputs": [
        {
          "output_type": "stream",
          "text": [
            "Copying files: 3000 files [00:00, 6816.85 files/s]\n"
          ],
          "name": "stderr"
        }
      ]
    },
    {
      "cell_type": "code",
      "metadata": {
        "colab": {
          "base_uri": "https://localhost:8080/"
        },
        "id": "WAbCnHsWQ0x8",
        "outputId": "06c4355a-c217-4122-cf70-44e232322818"
      },
      "source": [
        "#data generators\r\n",
        "\r\n",
        "#class-mode -> yapılacak sınıflandırmaya göre uygun olanı seçilmelidir. (binary - categorical)     \r\n",
        "training_set = train_datagen.flow_from_directory( \r\n",
        "    './data/train',\r\n",
        "    target_size=(64, 64),\r\n",
        "    batch_size=1,\r\n",
        "    class_mode='binary',\r\n",
        "    shuffle = False)\r\n",
        "\r\n",
        "test_set = test_datagen.flow_from_directory(\r\n",
        "    './data/val',\r\n",
        "    target_size=(64, 64),\r\n",
        "    batch_size=1,\r\n",
        "    class_mode='binary',\r\n",
        "    shuffle = False )\r\n",
        "\r\n"
      ],
      "execution_count": 38,
      "outputs": [
        {
          "output_type": "stream",
          "text": [
            "Found 2400 images belonging to 2 classes.\n",
            "Found 600 images belonging to 2 classes.\n"
          ],
          "name": "stdout"
        }
      ]
    },
    {
      "cell_type": "code",
      "metadata": {
        "colab": {
          "base_uri": "https://localhost:8080/"
        },
        "id": "b244XWauQ30n",
        "outputId": "3889a689-c2b4-437c-9dac-935c80469d79"
      },
      "source": [
        "model = Sequential()\r\n",
        "input_shape=(64, 64, 3)                                              #1st hidden layer\r\n",
        "model.add(Conv2D(32, (3, 3), strides=(2, 2), input_shape=input_shape))\r\n",
        "model.add(AveragePooling2D((2, 2), strides=(2,2)))\r\n",
        "model.add(Activation('relu'))                                         #2nd hidden layer\r\n",
        "model.add(Conv2D(64, (3, 3), padding=\"same\"))\r\n",
        "model.add(AveragePooling2D((2, 2), strides=(2,2)))\r\n",
        "model.add(Activation('relu'))                                         #3rd hidden layer\r\n",
        "model.add(Conv2D(64, (3, 3), padding=\"same\"))\r\n",
        "model.add(AveragePooling2D((2, 2), strides=(2,2)))\r\n",
        "model.add(Activation('relu'))                                         #Flatten\r\n",
        "model.add(Flatten())\r\n",
        "model.add(Dropout(rate=0.5))                                          #Add fully connected layer.\r\n",
        "model.add(Dense(64))\r\n",
        "model.add(Activation('relu'))\r\n",
        "model.add(Dropout(rate=0.5))                                          #Output layer\r\n",
        "model.add(Dense(10))\r\n",
        "model.add(Activation('softmax'))\r\n",
        "model.summary()"
      ],
      "execution_count": 39,
      "outputs": [
        {
          "output_type": "stream",
          "text": [
            "Model: \"sequential_1\"\n",
            "_________________________________________________________________\n",
            "Layer (type)                 Output Shape              Param #   \n",
            "=================================================================\n",
            "conv2d_3 (Conv2D)            (None, 31, 31, 32)        896       \n",
            "_________________________________________________________________\n",
            "average_pooling2d_3 (Average (None, 15, 15, 32)        0         \n",
            "_________________________________________________________________\n",
            "activation_5 (Activation)    (None, 15, 15, 32)        0         \n",
            "_________________________________________________________________\n",
            "conv2d_4 (Conv2D)            (None, 15, 15, 64)        18496     \n",
            "_________________________________________________________________\n",
            "average_pooling2d_4 (Average (None, 7, 7, 64)          0         \n",
            "_________________________________________________________________\n",
            "activation_6 (Activation)    (None, 7, 7, 64)          0         \n",
            "_________________________________________________________________\n",
            "conv2d_5 (Conv2D)            (None, 7, 7, 64)          36928     \n",
            "_________________________________________________________________\n",
            "average_pooling2d_5 (Average (None, 3, 3, 64)          0         \n",
            "_________________________________________________________________\n",
            "activation_7 (Activation)    (None, 3, 3, 64)          0         \n",
            "_________________________________________________________________\n",
            "flatten_1 (Flatten)          (None, 576)               0         \n",
            "_________________________________________________________________\n",
            "dropout_2 (Dropout)          (None, 576)               0         \n",
            "_________________________________________________________________\n",
            "dense_2 (Dense)              (None, 64)                36928     \n",
            "_________________________________________________________________\n",
            "activation_8 (Activation)    (None, 64)                0         \n",
            "_________________________________________________________________\n",
            "dropout_3 (Dropout)          (None, 64)                0         \n",
            "_________________________________________________________________\n",
            "dense_3 (Dense)              (None, 10)                650       \n",
            "_________________________________________________________________\n",
            "activation_9 (Activation)    (None, 10)                0         \n",
            "=================================================================\n",
            "Total params: 93,898\n",
            "Trainable params: 93,898\n",
            "Non-trainable params: 0\n",
            "_________________________________________________________________\n"
          ],
          "name": "stdout"
        }
      ]
    },
    {
      "cell_type": "code",
      "metadata": {
        "id": "nNqVIfJbQ6VW"
      },
      "source": [
        "epochs = 200\r\n",
        "batch_size = 8\r\n",
        "learning_rate = 0.01\r\n",
        "decay_rate = learning_rate / epochs\r\n",
        "momentum = 0.9\r\n",
        "sgd = SGD(lr=learning_rate, momentum=momentum, decay=decay_rate, nesterov=False)\r\n",
        "model.compile(optimizer=\"sgd\",  loss =\"sparse_categorical_crossentropy\", metrics=['accuracy'])"
      ],
      "execution_count": 40,
      "outputs": []
    },
    {
      "cell_type": "code",
      "metadata": {
        "colab": {
          "base_uri": "https://localhost:8080/"
        },
        "id": "DgQINX4AQ9GI",
        "outputId": "5afda8d0-cf0b-47c0-81c0-9e5221a97d8e"
      },
      "source": [
        "model.fit_generator(\r\n",
        "        training_set,\r\n",
        "        steps_per_epoch= len(training_set), \r\n",
        "        epochs=50,\r\n",
        "        validation_data=test_set,\r\n",
        "        validation_steps= len(test_set), \r\n",
        "         )"
      ],
      "execution_count": 41,
      "outputs": [
        {
          "output_type": "stream",
          "text": [
            "Epoch 1/50\n",
            "2400/2400 [==============================] - 18s 7ms/step - loss: 0.9239 - accuracy: 0.4658 - val_loss: 0.7083 - val_accuracy: 0.5000\n",
            "Epoch 2/50\n",
            "2400/2400 [==============================] - 17s 7ms/step - loss: 0.7506 - accuracy: 0.4698 - val_loss: 0.7160 - val_accuracy: 0.5000\n",
            "Epoch 3/50\n",
            "2400/2400 [==============================] - 17s 7ms/step - loss: 0.7308 - accuracy: 0.4904 - val_loss: 0.7382 - val_accuracy: 0.5000\n",
            "Epoch 4/50\n",
            "2400/2400 [==============================] - 17s 7ms/step - loss: 0.7243 - accuracy: 0.5026 - val_loss: 0.6661 - val_accuracy: 0.5000\n",
            "Epoch 5/50\n",
            "2400/2400 [==============================] - 17s 7ms/step - loss: 0.6605 - accuracy: 0.6202 - val_loss: 0.4727 - val_accuracy: 0.7850\n",
            "Epoch 6/50\n",
            "2400/2400 [==============================] - 17s 7ms/step - loss: 0.5849 - accuracy: 0.7089 - val_loss: 0.6098 - val_accuracy: 0.6417\n",
            "Epoch 7/50\n",
            "2400/2400 [==============================] - 17s 7ms/step - loss: 0.5006 - accuracy: 0.7704 - val_loss: 0.4895 - val_accuracy: 0.7600\n",
            "Epoch 8/50\n",
            "2400/2400 [==============================] - 17s 7ms/step - loss: 0.4368 - accuracy: 0.8081 - val_loss: 0.4575 - val_accuracy: 0.7683\n",
            "Epoch 9/50\n",
            "2400/2400 [==============================] - 17s 7ms/step - loss: 0.4558 - accuracy: 0.7978 - val_loss: 0.4325 - val_accuracy: 0.7933\n",
            "Epoch 10/50\n",
            "2400/2400 [==============================] - 17s 7ms/step - loss: 0.4091 - accuracy: 0.8243 - val_loss: 0.3962 - val_accuracy: 0.8250\n",
            "Epoch 11/50\n",
            "2400/2400 [==============================] - 17s 7ms/step - loss: 0.4039 - accuracy: 0.8349 - val_loss: 0.3768 - val_accuracy: 0.8283\n",
            "Epoch 12/50\n",
            "2400/2400 [==============================] - 17s 7ms/step - loss: 0.4010 - accuracy: 0.8323 - val_loss: 0.3891 - val_accuracy: 0.8417\n",
            "Epoch 13/50\n",
            "2400/2400 [==============================] - 17s 7ms/step - loss: 0.3810 - accuracy: 0.8396 - val_loss: 0.3741 - val_accuracy: 0.8233\n",
            "Epoch 14/50\n",
            "2400/2400 [==============================] - 17s 7ms/step - loss: 0.3872 - accuracy: 0.8424 - val_loss: 0.3541 - val_accuracy: 0.8450\n",
            "Epoch 15/50\n",
            "2400/2400 [==============================] - 17s 7ms/step - loss: 0.3803 - accuracy: 0.8434 - val_loss: 0.3228 - val_accuracy: 0.8550\n",
            "Epoch 16/50\n",
            "2400/2400 [==============================] - 17s 7ms/step - loss: 0.3334 - accuracy: 0.8716 - val_loss: 0.3458 - val_accuracy: 0.8433\n",
            "Epoch 17/50\n",
            "2400/2400 [==============================] - 17s 7ms/step - loss: 0.3645 - accuracy: 0.8473 - val_loss: 0.3207 - val_accuracy: 0.8633\n",
            "Epoch 18/50\n",
            "2400/2400 [==============================] - 17s 7ms/step - loss: 0.3464 - accuracy: 0.8549 - val_loss: 0.2978 - val_accuracy: 0.8700\n",
            "Epoch 19/50\n",
            "2400/2400 [==============================] - 17s 7ms/step - loss: 0.3347 - accuracy: 0.8678 - val_loss: 0.2908 - val_accuracy: 0.8950\n",
            "Epoch 20/50\n",
            "2400/2400 [==============================] - 17s 7ms/step - loss: 0.3325 - accuracy: 0.8670 - val_loss: 0.2533 - val_accuracy: 0.8900\n",
            "Epoch 21/50\n",
            "2400/2400 [==============================] - 17s 7ms/step - loss: 0.3356 - accuracy: 0.8606 - val_loss: 0.2888 - val_accuracy: 0.8833\n",
            "Epoch 22/50\n",
            "2400/2400 [==============================] - 17s 7ms/step - loss: 0.2975 - accuracy: 0.8819 - val_loss: 0.2456 - val_accuracy: 0.8800\n",
            "Epoch 23/50\n",
            "2400/2400 [==============================] - 17s 7ms/step - loss: 0.2918 - accuracy: 0.8702 - val_loss: 0.2447 - val_accuracy: 0.9000\n",
            "Epoch 24/50\n",
            "2400/2400 [==============================] - 17s 7ms/step - loss: 0.3083 - accuracy: 0.8814 - val_loss: 0.2525 - val_accuracy: 0.9033\n",
            "Epoch 25/50\n",
            "2400/2400 [==============================] - 17s 7ms/step - loss: 0.3581 - accuracy: 0.8664 - val_loss: 0.2614 - val_accuracy: 0.8900\n",
            "Epoch 26/50\n",
            "2400/2400 [==============================] - 17s 7ms/step - loss: 0.2805 - accuracy: 0.8848 - val_loss: 0.2173 - val_accuracy: 0.9100\n",
            "Epoch 27/50\n",
            "2400/2400 [==============================] - 17s 7ms/step - loss: 0.2665 - accuracy: 0.8988 - val_loss: 0.1936 - val_accuracy: 0.9317\n",
            "Epoch 28/50\n",
            "2400/2400 [==============================] - 17s 7ms/step - loss: 0.2932 - accuracy: 0.8867 - val_loss: 0.2621 - val_accuracy: 0.8917\n",
            "Epoch 29/50\n",
            "2400/2400 [==============================] - 17s 7ms/step - loss: 0.2657 - accuracy: 0.8963 - val_loss: 0.3288 - val_accuracy: 0.8650\n",
            "Epoch 30/50\n",
            "2400/2400 [==============================] - 17s 7ms/step - loss: 0.2425 - accuracy: 0.9060 - val_loss: 0.2410 - val_accuracy: 0.9050\n",
            "Epoch 31/50\n",
            "2400/2400 [==============================] - 17s 7ms/step - loss: 0.2583 - accuracy: 0.8848 - val_loss: 0.2285 - val_accuracy: 0.9100\n",
            "Epoch 32/50\n",
            "2400/2400 [==============================] - 17s 7ms/step - loss: 0.2580 - accuracy: 0.8998 - val_loss: 0.2098 - val_accuracy: 0.9083\n",
            "Epoch 33/50\n",
            "2400/2400 [==============================] - 17s 7ms/step - loss: 0.2252 - accuracy: 0.9197 - val_loss: 0.2211 - val_accuracy: 0.9117\n",
            "Epoch 34/50\n",
            "2400/2400 [==============================] - 17s 7ms/step - loss: 0.2615 - accuracy: 0.9036 - val_loss: 0.1786 - val_accuracy: 0.9317\n",
            "Epoch 35/50\n",
            "2400/2400 [==============================] - 17s 7ms/step - loss: 0.2385 - accuracy: 0.9108 - val_loss: 0.1800 - val_accuracy: 0.9283\n",
            "Epoch 36/50\n",
            "2400/2400 [==============================] - 17s 7ms/step - loss: 0.2276 - accuracy: 0.9116 - val_loss: 0.2694 - val_accuracy: 0.8833\n",
            "Epoch 37/50\n",
            "2400/2400 [==============================] - 17s 7ms/step - loss: 0.2590 - accuracy: 0.8998 - val_loss: 0.2589 - val_accuracy: 0.9167\n",
            "Epoch 38/50\n",
            "2400/2400 [==============================] - 17s 7ms/step - loss: 0.2638 - accuracy: 0.8874 - val_loss: 0.1895 - val_accuracy: 0.9183\n",
            "Epoch 39/50\n",
            "2400/2400 [==============================] - 17s 7ms/step - loss: 0.2215 - accuracy: 0.9190 - val_loss: 0.2239 - val_accuracy: 0.8967\n",
            "Epoch 40/50\n",
            "2400/2400 [==============================] - 17s 7ms/step - loss: 0.2485 - accuracy: 0.9152 - val_loss: 0.1807 - val_accuracy: 0.9433\n",
            "Epoch 41/50\n",
            "2400/2400 [==============================] - 17s 7ms/step - loss: 0.2018 - accuracy: 0.9182 - val_loss: 0.1862 - val_accuracy: 0.9250\n",
            "Epoch 42/50\n",
            "2400/2400 [==============================] - 17s 7ms/step - loss: 0.1934 - accuracy: 0.9292 - val_loss: 0.2619 - val_accuracy: 0.8900\n",
            "Epoch 43/50\n",
            "2400/2400 [==============================] - 17s 7ms/step - loss: 0.2033 - accuracy: 0.9146 - val_loss: 0.1663 - val_accuracy: 0.9317\n",
            "Epoch 44/50\n",
            "2400/2400 [==============================] - 17s 7ms/step - loss: 0.2294 - accuracy: 0.9146 - val_loss: 0.2176 - val_accuracy: 0.9067\n",
            "Epoch 45/50\n",
            "2400/2400 [==============================] - 17s 7ms/step - loss: 0.2048 - accuracy: 0.9262 - val_loss: 0.2261 - val_accuracy: 0.9217\n",
            "Epoch 46/50\n",
            "2400/2400 [==============================] - 17s 7ms/step - loss: 0.2049 - accuracy: 0.9266 - val_loss: 0.1635 - val_accuracy: 0.9400\n",
            "Epoch 47/50\n",
            "2400/2400 [==============================] - 17s 7ms/step - loss: 0.2028 - accuracy: 0.9206 - val_loss: 0.1686 - val_accuracy: 0.9383\n",
            "Epoch 48/50\n",
            "2400/2400 [==============================] - 17s 7ms/step - loss: 0.2167 - accuracy: 0.9300 - val_loss: 0.1804 - val_accuracy: 0.9350\n",
            "Epoch 49/50\n",
            "2400/2400 [==============================] - 17s 7ms/step - loss: 0.1949 - accuracy: 0.9237 - val_loss: 0.1822 - val_accuracy: 0.9400\n",
            "Epoch 50/50\n",
            "2400/2400 [==============================] - 17s 7ms/step - loss: 0.1859 - accuracy: 0.9328 - val_loss: 0.1688 - val_accuracy: 0.9333\n"
          ],
          "name": "stdout"
        },
        {
          "output_type": "execute_result",
          "data": {
            "text/plain": [
              "<tensorflow.python.keras.callbacks.History at 0x7facd1195438>"
            ]
          },
          "metadata": {
            "tags": []
          },
          "execution_count": 41
        }
      ]
    },
    {
      "cell_type": "code",
      "metadata": {
        "colab": {
          "base_uri": "https://localhost:8080/"
        },
        "id": "DcoLLlzMRBVM",
        "outputId": "5407cdae-9f15-407a-dd2f-76034d6240fc"
      },
      "source": [
        "#Model Evaluation\r\n",
        "model.evaluate_generator(generator=test_set, steps=200)"
      ],
      "execution_count": 42,
      "outputs": [
        {
          "output_type": "execute_result",
          "data": {
            "text/plain": [
              "[0.05806991457939148, 0.9850000143051147]"
            ]
          },
          "metadata": {
            "tags": []
          },
          "execution_count": 42
        }
      ]
    },
    {
      "cell_type": "code",
      "metadata": {
        "colab": {
          "base_uri": "https://localhost:8080/"
        },
        "id": "DKVSRpMJRDyH",
        "outputId": "2c806185-f59e-4f65-ded2-34e3d21c7c86"
      },
      "source": [
        "#test veri setini değiştiriyoruz. Ama önce sıfırlanması gerekiyor\r\n",
        "test_set.reset()\r\n",
        "pred = model.predict_generator(test_set, verbose=1) #steps= len(test_set)"
      ],
      "execution_count": 43,
      "outputs": [
        {
          "output_type": "stream",
          "text": [
            "600/600 [==============================] - 3s 5ms/step\n"
          ],
          "name": "stdout"
        }
      ]
    },
    {
      "cell_type": "code",
      "metadata": {
        "id": "G3FP2cWXRGGL"
      },
      "source": [
        "predicted_class_indices=np.argmax(pred,axis=1)\r\n",
        "#print(predicted_class_indices)\r\n",
        "\r\n",
        "labels = (training_set.class_indices)\r\n",
        "labels = dict((v,k) for k,v in labels.items())\r\n",
        "predictions = [labels[k] for k in predicted_class_indices]\r\n",
        "predictions = predictions[:600]\r\n",
        "filenames=test_set.filenames\r\n",
        "#print(filenames)"
      ],
      "execution_count": 45,
      "outputs": []
    },
    {
      "cell_type": "code",
      "metadata": {
        "colab": {
          "base_uri": "https://localhost:8080/"
        },
        "id": "vTyuCRKBRI4w",
        "outputId": "ea6dd1ed-4198-4d9c-9d15-c7b220ba48f2"
      },
      "source": [
        "print(len(filenames), len(predictions))\r\n"
      ],
      "execution_count": 46,
      "outputs": [
        {
          "output_type": "stream",
          "text": [
            "600 600\n"
          ],
          "name": "stdout"
        }
      ]
    },
    {
      "cell_type": "markdown",
      "metadata": {
        "id": "bIBkHS1fp725"
      },
      "source": [
        "Karşılaştırmalar için tablo oluşturuldu."
      ]
    },
    {
      "cell_type": "code",
      "metadata": {
        "id": "8rly7xsQRMeS"
      },
      "source": [
        "import csv\r\n",
        "results=pd.DataFrame({\"Filename\" :filenames,\r\n",
        "                      \"Predictions\":predictions})\r\n",
        "                     #orient='index')\r\n",
        "    \r\n",
        "results.to_csv(\"prediction_results.csv\",index=False)"
      ],
      "execution_count": 47,
      "outputs": []
    }
  ]
}